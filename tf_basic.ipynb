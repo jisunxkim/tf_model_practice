{
 "cells": [
  {
   "cell_type": "markdown",
   "metadata": {},
   "source": [
    "# Tensor Flow basics"
   ]
  },
  {
   "cell_type": "markdown",
   "metadata": {},
   "source": [
    "## Introduction to Tensorflow"
   ]
  },
  {
   "cell_type": "code",
   "execution_count": 22,
   "metadata": {},
   "outputs": [],
   "source": [
    "import pandas as pd \n",
    "import tensorflow as tf \n",
    "import logging\n",
    "import numpy as np"
   ]
  },
  {
   "cell_type": "code",
   "execution_count": 2,
   "metadata": {},
   "outputs": [],
   "source": [
    "logger = logging.getLogger()\n",
    "logging.basicConfig(format='%(levelname)s:%(message)s', level=logging.INFO)"
   ]
  },
  {
   "cell_type": "markdown",
   "metadata": {},
   "source": [
    "### Tensor Dimension"
   ]
  },
  {
   "cell_type": "code",
   "execution_count": 8,
   "metadata": {},
   "outputs": [
    {
     "data": {
      "text/plain": [
       "<tf.Tensor: shape=(1,), dtype=float32, numpy=array([1.], dtype=float32)>"
      ]
     },
     "execution_count": 8,
     "metadata": {},
     "output_type": "execute_result"
    }
   ],
   "source": [
    "# zero dimension: scalar\n",
    "d0 = tf.ones((1,))\n",
    "d0"
   ]
  },
  {
   "cell_type": "code",
   "execution_count": 9,
   "metadata": {},
   "outputs": [
    {
     "data": {
      "text/plain": [
       "<tf.Tensor: shape=(3,), dtype=float32, numpy=array([1., 1., 1.], dtype=float32)>"
      ]
     },
     "execution_count": 9,
     "metadata": {},
     "output_type": "execute_result"
    }
   ],
   "source": [
    "# one dimesion: like a list \n",
    "d1 = tf.ones((3,))\n",
    "d1"
   ]
  },
  {
   "cell_type": "code",
   "execution_count": 12,
   "metadata": {},
   "outputs": [
    {
     "data": {
      "text/plain": [
       "<tf.Tensor: shape=(3, 5), dtype=float32, numpy=\n",
       "array([[1., 1., 1., 1., 1.],\n",
       "       [1., 1., 1., 1., 1.],\n",
       "       [1., 1., 1., 1., 1.]], dtype=float32)>"
      ]
     },
     "execution_count": 12,
     "metadata": {},
     "output_type": "execute_result"
    }
   ],
   "source": [
    "# two dimention: like a matrix\n",
    "d2 = tf.ones((3, 5))\n",
    "d2\n"
   ]
  },
  {
   "cell_type": "code",
   "execution_count": 37,
   "metadata": {},
   "outputs": [
    {
     "data": {
      "text/plain": [
       "<tf.Tensor: shape=(3, 5), dtype=float32, numpy=\n",
       "array([[1., 1., 1., 1., 1.],\n",
       "       [1., 1., 1., 1., 1.],\n",
       "       [1., 1., 1., 1., 1.]], dtype=float32)>"
      ]
     },
     "execution_count": 37,
     "metadata": {},
     "output_type": "execute_result"
    }
   ],
   "source": [
    "tf.ones([3,5])"
   ]
  },
  {
   "cell_type": "code",
   "execution_count": 11,
   "metadata": {},
   "outputs": [
    {
     "name": "stdout",
     "output_type": "stream",
     "text": [
      "[[[1. 1.]\n",
      "  [1. 1.]]\n",
      "\n",
      " [[1. 1.]\n",
      "  [1. 1.]]]\n"
     ]
    }
   ],
   "source": [
    "# three dimention\n",
    "d3 = tf.ones((2,2,2))\n",
    "print(d3.numpy())"
   ]
  },
  {
   "cell_type": "markdown",
   "metadata": {},
   "source": [
    "### Tensor Constant"
   ]
  },
  {
   "cell_type": "code",
   "execution_count": 17,
   "metadata": {},
   "outputs": [],
   "source": [
    "from tensorflow import constant"
   ]
  },
  {
   "cell_type": "code",
   "execution_count": 19,
   "metadata": {},
   "outputs": [
    {
     "data": {
      "text/plain": [
       "<tf.Tensor: shape=(2, 3), dtype=int32, numpy=\n",
       "array([[3, 3, 3],\n",
       "       [3, 3, 3]])>"
      ]
     },
     "execution_count": 19,
     "metadata": {},
     "output_type": "execute_result"
    }
   ],
   "source": [
    "c1 = constant(3, shape= [2,3])\n",
    "c1"
   ]
  },
  {
   "cell_type": "code",
   "execution_count": 36,
   "metadata": {},
   "outputs": [
    {
     "data": {
      "text/plain": [
       "<tf.Tensor: shape=(2, 3), dtype=int32, numpy=\n",
       "array([[3, 3, 3],\n",
       "       [3, 3, 3]])>"
      ]
     },
     "execution_count": 36,
     "metadata": {},
     "output_type": "execute_result"
    }
   ],
   "source": [
    "constant(3, shape= (2,3))"
   ]
  },
  {
   "cell_type": "code",
   "execution_count": 21,
   "metadata": {},
   "outputs": [
    {
     "data": {
      "text/plain": [
       "<tf.Tensor: shape=(2, 3), dtype=int32, numpy=\n",
       "array([[1, 2, 3],\n",
       "       [4, 5, 6]])>"
      ]
     },
     "execution_count": 21,
     "metadata": {},
     "output_type": "execute_result"
    }
   ],
   "source": [
    "c2 = constant([1,2,3,4,5,6], shape=[2, 3])\n",
    "c2"
   ]
  },
  {
   "cell_type": "code",
   "execution_count": 28,
   "metadata": {},
   "outputs": [
    {
     "name": "stdout",
     "output_type": "stream",
     "text": [
      "[[0 1 2]\n",
      " [3 4 5]]\n",
      "tf.Tensor(\n",
      "[[0 1 2]\n",
      " [3 4 5]], shape=(2, 3), dtype=int32)\n"
     ]
    }
   ],
   "source": [
    "a_np = np.arange(6).reshape(2, 3)\n",
    "print(a_np)\n",
    "c3 = constant(a_np)\n",
    "print(c3)"
   ]
  },
  {
   "cell_type": "code",
   "execution_count": 31,
   "metadata": {},
   "outputs": [
    {
     "name": "stdout",
     "output_type": "stream",
     "text": [
      "[[ 0  1  2  3]\n",
      " [ 4  5  6  7]\n",
      " [ 8  9 10 11]]\n",
      "[[ 0  4  8]\n",
      " [ 1  5  9]\n",
      " [ 2  6 10]\n",
      " [ 3  7 11]]\n"
     ]
    }
   ],
   "source": [
    "# matrix transpose: row => column, column => row\n",
    "b_np = np.arange(12).reshape(3,4)\n",
    "print(b_np)\n",
    "print(b_np.transpose())"
   ]
  },
  {
   "cell_type": "code",
   "execution_count": 33,
   "metadata": {},
   "outputs": [
    {
     "data": {
      "text/plain": [
       "<tf.Tensor: shape=(3, 4), dtype=int32, numpy=\n",
       "array([[0, 0, 0, 0],\n",
       "       [0, 0, 0, 0],\n",
       "       [0, 0, 0, 0]])>"
      ]
     },
     "execution_count": 33,
     "metadata": {},
     "output_type": "execute_result"
    }
   ],
   "source": [
    "tf.zeros_like(b_np)"
   ]
  },
  {
   "cell_type": "code",
   "execution_count": 34,
   "metadata": {},
   "outputs": [
    {
     "data": {
      "text/plain": [
       "<tf.Tensor: shape=(2, 3), dtype=int32, numpy=\n",
       "array([[0, 0, 0],\n",
       "       [0, 0, 0]])>"
      ]
     },
     "execution_count": 34,
     "metadata": {},
     "output_type": "execute_result"
    }
   ],
   "source": [
    "tf.zeros_like(c3)"
   ]
  },
  {
   "cell_type": "code",
   "execution_count": 35,
   "metadata": {},
   "outputs": [
    {
     "data": {
      "text/plain": [
       "<tf.Tensor: shape=(3, 3), dtype=int32, numpy=\n",
       "array([[7, 7, 7],\n",
       "       [7, 7, 7],\n",
       "       [7, 7, 7]])>"
      ]
     },
     "execution_count": 35,
     "metadata": {},
     "output_type": "execute_result"
    }
   ],
   "source": [
    "tf.fill([3,3], 7)"
   ]
  },
  {
   "cell_type": "markdown",
   "metadata": {},
   "source": [
    "### Variables\n",
    "- dtype should match each other to calcualte tensors"
   ]
  },
  {
   "cell_type": "code",
   "execution_count": 40,
   "metadata": {},
   "outputs": [
    {
     "name": "stdout",
     "output_type": "stream",
     "text": [
      "<tf.Variable 'Variable:0' shape=(4,) dtype=float16, numpy=array([1., 2., 3., 4.], dtype=float16)>\n",
      "<tf.Variable 'Variable:0' shape=(4,) dtype=int16, numpy=array([1, 2, 3, 4], dtype=int16)>\n"
     ]
    }
   ],
   "source": [
    "# a variable of 4 elements with initial value setting\n",
    "a0 = tf.Variable([1,2,3,4], dtype=tf.float16)\n",
    "a1 = tf.Variable([1,2,3,4], dtype=tf.int16)\n",
    "print(a0)\n",
    "print(a1)"
   ]
  },
  {
   "cell_type": "code",
   "execution_count": 64,
   "metadata": {},
   "outputs": [
    {
     "name": "stdout",
     "output_type": "stream",
     "text": [
      "tf.Tensor([2.], shape=(1,), dtype=float16)\n",
      "tf.Tensor([3], shape=(1,), dtype=int16)\n",
      "tf.Tensor([5], shape=(1,), dtype=int16)\n"
     ]
    }
   ],
   "source": [
    "c0 = tf.constant(value=[2], shape=[1],dtype=tf.float16)\n",
    "c1 = tf.constant([3],dtype=tf.int16)\n",
    "c2 = tf.constant([5],dtype=tf.int16)\n",
    "print(c0)\n",
    "print(c1)\n",
    "print(c2)"
   ]
  },
  {
   "cell_type": "code",
   "execution_count": 51,
   "metadata": {},
   "outputs": [
    {
     "data": {
      "text/plain": [
       "<tf.Tensor: shape=(4,), dtype=float16, numpy=array([2., 4., 6., 8.], dtype=float16)>"
      ]
     },
     "execution_count": 51,
     "metadata": {},
     "output_type": "execute_result"
    }
   ],
   "source": [
    "tf.multiply(x=a0, y=c0)"
   ]
  },
  {
   "cell_type": "code",
   "execution_count": 55,
   "metadata": {},
   "outputs": [
    {
     "data": {
      "text/plain": [
       "<tf.Tensor: shape=(4,), dtype=int16, numpy=array([ 3,  6,  9, 12], dtype=int16)>"
      ]
     },
     "execution_count": 55,
     "metadata": {},
     "output_type": "execute_result"
    }
   ],
   "source": [
    "tf.multiply(a1,c1)"
   ]
  },
  {
   "cell_type": "code",
   "execution_count": 57,
   "metadata": {},
   "outputs": [
    {
     "data": {
      "text/plain": [
       "<tf.Tensor: shape=(4,), dtype=int16, numpy=array([ 3,  6,  9, 12], dtype=int16)>"
      ]
     },
     "execution_count": 57,
     "metadata": {},
     "output_type": "execute_result"
    }
   ],
   "source": [
    "a1*c1"
   ]
  },
  {
   "cell_type": "code",
   "execution_count": 58,
   "metadata": {},
   "outputs": [
    {
     "data": {
      "text/plain": [
       "<tf.Tensor: shape=(4,), dtype=int16, numpy=array([4, 5, 6, 7], dtype=int16)>"
      ]
     },
     "execution_count": 58,
     "metadata": {},
     "output_type": "execute_result"
    }
   ],
   "source": [
    "a1 + c1"
   ]
  },
  {
   "cell_type": "code",
   "execution_count": 74,
   "metadata": {},
   "outputs": [
    {
     "name": "stdout",
     "output_type": "stream",
     "text": [
      "tf.Tensor([4 5 6 7], shape=(4,), dtype=int16)\n",
      "tf.Tensor([ 9 10 11 12], shape=(4,), dtype=int16)\n"
     ]
    }
   ],
   "source": [
    "# adding multiple tensors to the calculatoin method doesn't work!!!!\n",
    "print(tf.add(a1,c1,c2))\n",
    "print(tf.add(tf.add(a1,c1),c2))"
   ]
  },
  {
   "cell_type": "code",
   "execution_count": 73,
   "metadata": {},
   "outputs": [
    {
     "name": "stdout",
     "output_type": "stream",
     "text": [
      "tf.Tensor([ 9 10 11 12], shape=(4,), dtype=int16)\n",
      "tf.Tensor([ 3  6  9 12], shape=(4,), dtype=int16)\n",
      "tf.Tensor([ 8 11 14 17], shape=(4,), dtype=int16)\n"
     ]
    }
   ],
   "source": [
    "# this method work when calculate multiple tensors\n",
    "print(a1+c1+c2)\n",
    "print(a1*c1)\n",
    "print(a1*c1+c2)"
   ]
  },
  {
   "cell_type": "markdown",
   "metadata": {},
   "source": [
    "### Basic Operations - Matrix calculation\n",
    "1. tf.add(), tf.multiply()   \n",
    "- the shapes should be same between two from right to the left of the dimensions.\n",
    "A(shape) \n",
    "A1 x A2432 => shape(2,4,3,2)  \n",
    "A2 x A2432 => shape(2,4,3,2)  \n",
    "A32 x A2432 => shape(2,4,3,2)  \n",
    "A432 x A2432 => shape(2,4,3,2)  \n",
    "A2432 x A2432 => shape(2,4,3,2)  \n",
    "\n",
    "For example:  \n",
    "[1,2] x [3, 4] = [3, 8]  \n",
    "[3] x [1, 2] = [3, 6]  \n",
    "[1,2] x [[1,2], [3,4]] = [[1,4], [3,8]]  \n",
    "\n",
    "2. tf.matmul()  \n",
    "- column shape of the left tesor should be same wit the row shape of the right tensor\n",
    "A23 dot A35 => shape([2, 5])\n",
    "(calculated tensor unit: 23, 35)\n",
    "A243 dot A34 => shape([2,4,4])\n",
    "(calculated tensor unit: two 43 dot one 34 => two 44)\n",
    "A435 dot A453 => shape[(4,3,3])\n",
    "(calculated tensor unit: four 35 dot four 53 => four 33)\n",
    "A2435 dot A53 => shape[(2,4,3,3])\n",
    "(calculated tensor unit: twoxfour 35 dot one 53 => twoxfour 33)\n",
    "A2435 dot A453 => shape([2, 4, 3, 3])\n",
    "(calculated tensor unit: twoxfour 35 dot four 53 => twoxfour 33)\n",
    "([4,3,5] dot [5,3] => [4,3,3] )\n",
    "\n",
    "A34 dot A543 => shape([5,3,3])\n",
    "(calculated tensor unit: one 34 dot five 43 => five 33)\n",
    "\n",
    "NOTE: \n",
    "- dot product requires both tensor should have 2 dimension matrix minimum. \n",
    "\n",
    "\n",
    " "
   ]
  },
  {
   "cell_type": "code",
   "execution_count": 149,
   "metadata": {},
   "outputs": [
    {
     "data": {
      "text/plain": [
       "TensorShape([5, 3, 3])"
      ]
     },
     "execution_count": 149,
     "metadata": {},
     "output_type": "execute_result"
    }
   ],
   "source": [
    "A34=tf.ones([3,4])\n",
    "A543=tf.ones([5,4,3])\n",
    "tf.matmul(A34, A543).shape"
   ]
  },
  {
   "cell_type": "code",
   "execution_count": 150,
   "metadata": {},
   "outputs": [
    {
     "data": {
      "text/plain": [
       "<tf.Tensor: shape=(2, 3), dtype=int32, numpy=\n",
       "array([[0, 1, 2],\n",
       "       [3, 4, 5]])>"
      ]
     },
     "execution_count": 150,
     "metadata": {},
     "output_type": "execute_result"
    }
   ],
   "source": [
    "A23=tf.constant(np.arange(6), shape=[2,3])\n",
    "A23"
   ]
  },
  {
   "cell_type": "code",
   "execution_count": null,
   "metadata": {},
   "outputs": [
    {
     "name": "stdout",
     "output_type": "stream",
     "text": [
      "tf.Tensor(\n",
      "[[[[1. 1.]\n",
      "   [1. 1.]\n",
      "   [1. 1.]]\n",
      "\n",
      "  [[1. 1.]\n",
      "   [1. 1.]\n",
      "   [1. 1.]]\n",
      "\n",
      "  [[1. 1.]\n",
      "   [1. 1.]\n",
      "   [1. 1.]]\n",
      "\n",
      "  [[1. 1.]\n",
      "   [1. 1.]\n",
      "   [1. 1.]]]\n",
      "\n",
      "\n",
      " [[[1. 1.]\n",
      "   [1. 1.]\n",
      "   [1. 1.]]\n",
      "\n",
      "  [[1. 1.]\n",
      "   [1. 1.]\n",
      "   [1. 1.]]\n",
      "\n",
      "  [[1. 1.]\n",
      "   [1. 1.]\n",
      "   [1. 1.]]\n",
      "\n",
      "  [[1. 1.]\n",
      "   [1. 1.]\n",
      "   [1. 1.]]]], shape=(2, 4, 3, 2), dtype=float32)\n"
     ]
    }
   ],
   "source": [
    "try:\n",
    "    temp = tf.multiply(A432, A2432)\n",
    "    temp.shape\n",
    "    print(temp)\n",
    "except:\n",
    "    print(\"Calculation Error\")"
   ]
  },
  {
   "cell_type": "code",
   "execution_count": 83,
   "metadata": {},
   "outputs": [
    {
     "name": "stdout",
     "output_type": "stream",
     "text": [
      "tf.Tensor([3], shape=(1,), dtype=int32)\n",
      "tf.Tensor([4 5], shape=(2,), dtype=int32)\n",
      "tf.Tensor(\n",
      "[[2 4]\n",
      " [4 6]], shape=(2, 2), dtype=int32)\n",
      "tf.Tensor(\n",
      "[[ 6  8]\n",
      " [10 12]], shape=(2, 2), dtype=int32)\n",
      "tf.Tensor(\n",
      "[[6 7]\n",
      " [8 9]], shape=(2, 2), dtype=int32)\n"
     ]
    }
   ],
   "source": [
    "a0=tf.constant([1])\n",
    "b0=tf.constant([2])\n",
    "a1=tf.constant([1,2])\n",
    "b1=tf.constant([3,4])\n",
    "a2=tf.constant([[1,2],[3,4]])\n",
    "b2=tf.constant([[5,6],[7,8]])\n",
    "\n",
    "print(tf.add(a0, b0))\n",
    "print(tf.add(a0, b1))\n",
    "print(tf.add(a1, a2))\n",
    "print(tf.add(a2, b2))\n",
    "print(tf.add(a0, b2))"
   ]
  },
  {
   "cell_type": "code",
   "execution_count": 89,
   "metadata": {},
   "outputs": [
    {
     "name": "stdout",
     "output_type": "stream",
     "text": [
      "tf.Tensor([10 10 10], shape=(3,), dtype=int32)\n",
      "tf.Tensor(\n",
      "[[0 1]\n",
      " [2 3]\n",
      " [4 5]], shape=(3, 2), dtype=int32)\n",
      "Calculation Error\n"
     ]
    }
   ],
   "source": [
    "c1=tf.constant([10,10,10])\n",
    "d1=tf.constant(np.arange(6).reshape(3,2))\n",
    "print(c1)\n",
    "print(d1)\n",
    "try:\n",
    "    print(tf.add(c1, a1))\n",
    "except:\n",
    "    print(\"Calculation Error\")"
   ]
  },
  {
   "cell_type": "code",
   "execution_count": 97,
   "metadata": {},
   "outputs": [
    {
     "name": "stdout",
     "output_type": "stream",
     "text": [
      "tf.Tensor([1 2], shape=(2,), dtype=int32)\n",
      "tf.Tensor(\n",
      "[[1 2]\n",
      " [3 4]], shape=(2, 2), dtype=int32)\n",
      "tf.Tensor(\n",
      "[[1 4]\n",
      " [3 8]], shape=(2, 2), dtype=int32)\n"
     ]
    }
   ],
   "source": [
    "print(a1)\n",
    "print(a2)\n",
    "try:\n",
    "    print(tf.multiply(a1, a2))\n",
    "except:\n",
    "    print(\"Calculation Error\")"
   ]
  },
  {
   "cell_type": "code",
   "execution_count": 133,
   "metadata": {},
   "outputs": [],
   "source": [
    "A0 = tf.ones([1])\n",
    "A14 = tf.ones([1,4])\n",
    "A241 = tf.ones([2, 1,4])\n",
    "A24 = tf.ones([2,4])\n",
    "A32 = tf.ones([3,2])\n",
    "A34 = tf.ones([3,4])\n",
    "A43 = tf.ones([4,3])\n",
    "A432=tf.ones([4,3,2])\n",
    "A232 = tf.ones([2,3,2])\n",
    "A2432 = tf.ones([2,4,3,2])\n"
   ]
  },
  {
   "cell_type": "code",
   "execution_count": 132,
   "metadata": {},
   "outputs": [
    {
     "name": "stdout",
     "output_type": "stream",
     "text": [
      "tf.Tensor(\n",
      "[[[[1. 1.]\n",
      "   [1. 1.]\n",
      "   [1. 1.]]\n",
      "\n",
      "  [[1. 1.]\n",
      "   [1. 1.]\n",
      "   [1. 1.]]\n",
      "\n",
      "  [[1. 1.]\n",
      "   [1. 1.]\n",
      "   [1. 1.]]\n",
      "\n",
      "  [[1. 1.]\n",
      "   [1. 1.]\n",
      "   [1. 1.]]]\n",
      "\n",
      "\n",
      " [[[1. 1.]\n",
      "   [1. 1.]\n",
      "   [1. 1.]]\n",
      "\n",
      "  [[1. 1.]\n",
      "   [1. 1.]\n",
      "   [1. 1.]]\n",
      "\n",
      "  [[1. 1.]\n",
      "   [1. 1.]\n",
      "   [1. 1.]]\n",
      "\n",
      "  [[1. 1.]\n",
      "   [1. 1.]\n",
      "   [1. 1.]]]], shape=(2, 4, 3, 2), dtype=float32)\n"
     ]
    }
   ],
   "source": [
    "try:\n",
    "    temp = tf.multiply(A432, A2432)\n",
    "    temp.shape\n",
    "    print(temp)\n",
    "except:\n",
    "    print(\"Calculation Error\")"
   ]
  },
  {
   "cell_type": "code",
   "execution_count": 134,
   "metadata": {},
   "outputs": [
    {
     "name": "stdout",
     "output_type": "stream",
     "text": [
      "tf.Tensor([[4. 4. 4.]], shape=(1, 3), dtype=float32)\n"
     ]
    }
   ],
   "source": [
    "try:\n",
    "    temp = tf.matmul(A14, A43)\n",
    "    temp.shape\n",
    "    print(temp)\n",
    "except:\n",
    "    print(\"Calculation Error\")"
   ]
  },
  {
   "cell_type": "code",
   "execution_count": 135,
   "metadata": {},
   "outputs": [
    {
     "data": {
      "text/plain": [
       "<tf.Tensor: shape=(2, 3), dtype=float32, numpy=\n",
       "array([[4., 4., 4.],\n",
       "       [4., 4., 4.]], dtype=float32)>"
      ]
     },
     "execution_count": 135,
     "metadata": {},
     "output_type": "execute_result"
    }
   ],
   "source": [
    "A24=tf.ones([2,4])\n",
    "A43=tf.ones([4,3])\n",
    "tf.matmul(A24,A43)"
   ]
  },
  {
   "cell_type": "code",
   "execution_count": 144,
   "metadata": {},
   "outputs": [
    {
     "name": "stdout",
     "output_type": "stream",
     "text": [
      "tf.Tensor(\n",
      "[[[3. 3. 3. 3.]\n",
      "  [3. 3. 3. 3.]\n",
      "  [3. 3. 3. 3.]\n",
      "  [3. 3. 3. 3.]]\n",
      "\n",
      " [[3. 3. 3. 3.]\n",
      "  [3. 3. 3. 3.]\n",
      "  [3. 3. 3. 3.]\n",
      "  [3. 3. 3. 3.]]], shape=(2, 4, 4), dtype=float32)\n"
     ]
    }
   ],
   "source": [
    "A243=tf.ones([2,4,3])\n",
    "A34=tf.ones([3,4])\n",
    "print(tf.matmul(A243, A34))\n"
   ]
  },
  {
   "cell_type": "code",
   "execution_count": 148,
   "metadata": {},
   "outputs": [
    {
     "data": {
      "text/plain": [
       "TensorShape([4, 3, 3])"
      ]
     },
     "execution_count": 148,
     "metadata": {},
     "output_type": "execute_result"
    }
   ],
   "source": [
    "A435=tf.ones([4,3,5])\n",
    "A453=tf.ones([4, 5,3])\n",
    " \n",
    "tf.matmul(A435,A453).shape"
   ]
  },
  {
   "cell_type": "markdown",
   "metadata": {},
   "source": [
    "### Basic Operations - Reducing tensor dimensions\n",
    "reduce_all()\n",
    "reduce_any()\n",
    "reduce_logsumexp()\n",
    "reduce_pro()\n",
    "reduce_max()\n",
    "reduce_min()\n",
    "reduce_mean()\n",
    "\n",
    "A234=tf.ones([2,3,4])  \n",
    "tf.reduce_sum(A234) => 24  \n",
    "tf.reduce_sum(A234,axis=0) => shape=(3, 4)  \n",
    "tf.reduce_sum(A234,axis=1) => shape=(2, 4)  "
   ]
  },
  {
   "cell_type": "code",
   "execution_count": 154,
   "metadata": {},
   "outputs": [
    {
     "data": {
      "text/plain": [
       "<tf.Tensor: shape=(2, 4), dtype=float32, numpy=\n",
       "array([[3., 3., 3., 3.],\n",
       "       [3., 3., 3., 3.]], dtype=float32)>"
      ]
     },
     "execution_count": 154,
     "metadata": {},
     "output_type": "execute_result"
    }
   ],
   "source": [
    "A234=tf.ones([2,3,4])\n",
    "tf.reduce_sum(A234,axis=1)"
   ]
  },
  {
   "cell_type": "markdown",
   "metadata": {},
   "source": [
    "### Advanced Operations\n",
    "- gradient()\n",
    "- reshape()\n",
    "- random()"
   ]
  },
  {
   "cell_type": "markdown",
   "metadata": {},
   "source": [
    "#### find an optimal value of y=x^2"
   ]
  },
  {
   "cell_type": "code",
   "execution_count": 15,
   "metadata": {},
   "outputs": [],
   "source": [
    "import tensorflow as tf"
   ]
  },
  {
   "cell_type": "code",
   "execution_count": null,
   "metadata": {},
   "outputs": [],
   "source": [
    "\n",
    "# define variable x\n",
    "x = tf.Variable(initial_value=-1.0)\n",
    "\n",
    "# define y within instance of gradientTape\n",
    "# What is GradientTape ():\n",
    "# GradientTape is a mathematical tool for automatic differentiation (autodiff), which is the core functionality of TensorFlow. It does not \"track\" the autodiff, it is a key part of performing the autodiff.Dec\n",
    "# Computes the gradient using operations recorded in context of this tape. Note: Unless you set persistent=True a GradientTape can only be used to compute one set of gradients (or jacobians). ... a list of gradients, one for each element of target.\n",
    "# with tf.GradientTape(persistent=False, watch_accessed_variables=True) as tape:\n",
    "with tf.GradientTape(persistent=False, watch_accessed_variables=False) as tape:\n",
    "    # NOTE: if watch_accessed_variables=False then should define tape.watch(variable). If it is True, no need to define watch of the variable.\n",
    "    tape.watch(x)\n",
    "    y=tf.multiply(x,x)"
   ]
  },
  {
   "cell_type": "code",
   "execution_count": 181,
   "metadata": {},
   "outputs": [
    {
     "name": "stdout",
     "output_type": "stream",
     "text": [
      "-2.0\n"
     ]
    }
   ],
   "source": [
    "# evaluate the gradient of y at x=-1\n",
    "g = tape.gradient(target=y, sources=x)\n",
    "print(g.numpy())"
   ]
  },
  {
   "cell_type": "code",
   "execution_count": 17,
   "metadata": {},
   "outputs": [],
   "source": [
    "def compute_gradient(x0):\n",
    "    \"\"\" x0: inital value of variable x\"\"\"\n",
    "    x =tf.Variable(x0)\n",
    "    \n",
    "    with tf.GradientTape() as tape:\n",
    "        tape.watch(x)\n",
    "        # define y\n",
    "        y = tf.multiply(x=x, y=x)\n",
    "        \n",
    "    return tape.gradient(y, x).numpy()"
   ]
  },
  {
   "cell_type": "code",
   "execution_count": 19,
   "metadata": {},
   "outputs": [
    {
     "name": "stdout",
     "output_type": "stream",
     "text": [
      "-2.0\n",
      "2.0\n",
      "0.0\n"
     ]
    }
   ],
   "source": [
    "print(compute_gradient(x0=-1.0))\n",
    "print(compute_gradient(x0=1.0))\n",
    "print(compute_gradient(x0=0.0))"
   ]
  },
  {
   "cell_type": "markdown",
   "metadata": {},
   "source": [
    "#### Reshape a grayscale image"
   ]
  },
  {
   "cell_type": "code",
   "execution_count": 11,
   "metadata": {},
   "outputs": [
    {
     "name": "stdout",
     "output_type": "stream",
     "text": [
      "[[ 15 227]\n",
      " [ 86 242]]\n"
     ]
    }
   ],
   "source": [
    "import tensorflow as tf\n",
    "\n",
    "# generate grayscale image\n",
    "gray = tf.random.uniform(shape=[2,2], maxval=255, dtype=tf.int32)\n",
    "\n",
    "print(gray.numpy())"
   ]
  },
  {
   "cell_type": "code",
   "execution_count": 20,
   "metadata": {},
   "outputs": [
    {
     "name": "stdout",
     "output_type": "stream",
     "text": [
      "[[ 15]\n",
      " [227]\n",
      " [ 86]\n",
      " [242]]\n",
      "570\n"
     ]
    }
   ],
   "source": [
    "# reshape grayscale image\n",
    "gray = tf.reshape(tensor=gray, shape=[2*2,1])\n",
    "print(gray.numpy())\n",
    "print(tf.reduce_sum(gray).numpy())"
   ]
  },
  {
   "cell_type": "markdown",
   "metadata": {},
   "source": [
    "## Linear models"
   ]
  },
  {
   "cell_type": "markdown",
   "metadata": {},
   "source": [
    "### Input data"
   ]
  },
  {
   "cell_type": "code",
   "execution_count": null,
   "metadata": {},
   "outputs": [],
   "source": []
  },
  {
   "cell_type": "markdown",
   "metadata": {},
   "source": [
    "### Loss functions"
   ]
  },
  {
   "cell_type": "code",
   "execution_count": null,
   "metadata": {},
   "outputs": [],
   "source": []
  },
  {
   "cell_type": "markdown",
   "metadata": {},
   "source": [
    "### Linear regression"
   ]
  },
  {
   "cell_type": "code",
   "execution_count": null,
   "metadata": {},
   "outputs": [],
   "source": []
  },
  {
   "cell_type": "markdown",
   "metadata": {},
   "source": [
    "### Batch training"
   ]
  }
 ],
 "metadata": {
  "interpreter": {
   "hash": "c0181e6bcccf24a3dbbe02c8d2f27a4c63a4a0fb4690772eeab5518484aa377a"
  },
  "kernelspec": {
   "display_name": "Python 3.8.5 64-bit ('base': conda)",
   "name": "python3"
  },
  "language_info": {
   "codemirror_mode": {
    "name": "ipython",
    "version": 3
   },
   "file_extension": ".py",
   "mimetype": "text/x-python",
   "name": "python",
   "nbconvert_exporter": "python",
   "pygments_lexer": "ipython3",
   "version": "3.8.5"
  },
  "orig_nbformat": 4
 },
 "nbformat": 4,
 "nbformat_minor": 2
}
